{
 "cells": [
  {
   "cell_type": "markdown",
   "id": "314ae579-f90c-49d7-b466-be4337ac6c2a",
   "metadata": {},
   "source": [
    "# Background\n",
    "\n",
    "The United Nations peacekeeping mandate comes from the United Nations Charter, chapters VI and VII. Since its establishment, the UN has deployed peacekeepers around the world to monitor and support ceasefires, creating a path to sustainable peace. Sadly, peacekeepers serving in these missions lose their lives to malicious acts, accidents, illnesses, and self-inflicted causes. These deaths are registered in a publicly-accessible dataset that gives us an opportunity to have a data-informed overview of the UN peacekeeping missions.\n",
    "\n",
    "# Situation & Task\n",
    "\n",
    "We get a [dataset listing all registered deaths of UN peacekeepers](https://psdata.un.org/dataset/DPPADPOSS-FATALITIES). We want to quickly visualise the information from this dataset using QGIS to create an animation that would explain the changing geography and intensity of the missions.\n",
    "\n",
    "# Scope & Limitations\n",
    "\n",
    "We will map all UN peacekeeping missions that have had at least 1 fatality on the world map. We will be using the present borders of the countries. A country will be the smallest unit in our mapping since we won’t be able to pinpoint the location of the UN missions to sub-national geographical units. We will be using AI-assisted Python, AI-based data preprocessing, and QGIS."
   ]
  },
  {
   "attachments": {},
   "cell_type": "markdown",
   "id": "42a0327d-6c04-4213-bd8e-03d001d508d5",
   "metadata": {},
   "source": [
    "# Result\n",
    "\n",
    "![Peacekeeping missions gif](./images/peacekeeping_missions_full_size.gif)\n"
   ]
  },
  {
   "cell_type": "markdown",
   "id": "3839e9e1-4656-46dd-8580-540664de0d67",
   "metadata": {},
   "source": [
    "# Data exploration\n",
    "\n",
    "The initial data exploration process can be found [in an auxiliary notebook](./data_exploration.ipynb). \n",
    "\n",
    "![Data Exploration](./images/casualties_by_year.png)"
   ]
  },
  {
   "cell_type": "markdown",
   "id": "739846b2-d868-4234-a153-7fc936fc698e",
   "metadata": {},
   "source": [
    "# Process\n",
    "\n",
    "1. I [download the dataset in .csv format](https://drive.google.com/open?id=1YTJ2V4vfMRSBIkoGl17EUlgnDP-9vZMp&usp=drive_fs).\n",
    "\n",
    "2. I use OpenAI API to help me determine the geography and timeline of unique missions. I send the results through OpenAI once more, asking it to act as a fact checker to minimise errors."
   ]
  },
  {
   "cell_type": "code",
   "execution_count": null,
   "id": "16b10e83-5f7a-4f7e-b24e-8830370aab45",
   "metadata": {},
   "outputs": [],
   "source": [
    "%%capture\n",
    "!pip install pandas requests openai python-dotenv"
   ]
  },
  {
   "cell_type": "code",
   "execution_count": null,
   "id": "c75846ee-95db-483a-ba19-1ac155aa4ca4",
   "metadata": {},
   "outputs": [],
   "source": [
    "import pandas as pd\n",
    "import requests\n",
    "import openai\n",
    "import os\n",
    "from dotenv import load_dotenv\n",
    "\n",
    "from preprocessing import send_to_chatgpt, get_mission_data, add_verification_column\n",
    "\n",
    "url = f'https://drive.google.com/uc?export=download&id=1YTJ2V4vfMRSBIkoGl17EUlgnDP-9vZMp'\n",
    "df = pd.read_csv(url)\n",
    "\n",
    "#use openai API to get data for every mission\n",
    "mission_data = get_mission_data(df, send_to_chatgpt)\n",
    "\n",
    "#use openai API to fact-check the answers received on the previous step\n",
    "mission_data = add_verification_column(mission_data, send_to_chatgpt)\n",
    "\n",
    "#export the data to excel file for manual processing\n",
    "mission_data.to_excel(\"mission_countries_years_with_check.xlsx\", index=False)\n",
    "\n",
    "# Print the updated DataFrame for inspection\n",
    "#print(\"\\n--- Updated Mission Data with Verification Column ---\")\n",
    "#print(mission_data)"
   ]
  },
  {
   "cell_type": "markdown",
   "id": "068f1451-16f1-4f81-af6d-aa277cb8f4e6",
   "metadata": {},
   "source": [
    "<div style=\"background-color: #fff8b0; border: 1px solid #e6c200; padding: 15px; border-radius: 8px; box-shadow: 2px 2px 5px rgba(0,0,0,0.1); width: fit-content; font-family: sans-serif;\">\n",
    "  📌 <strong>Note on using openai for data preprocessing:</strong> In this example, I am using gpt4o as the model for my requests. It gives better results than gpt4o-mini but is significantly more expensive: the execution of the query above cost me about USD 0.10 with the help of gpt4o, and about USD 0.01 with gpt4o-mini (April 2025). \n",
    "Regardless of the model used, it is prone to error, both by hallucinating wrong answers and not retreiving easilly accessible ones. Therefore, using openai for data preprocessing is advisable only for non-critical tasks with some tolerance for wrong answers.\n",
    "To minimise errors, I introduce a feedback loop, where I send the results to openai again with a prompt asking it to perform fact-checking.\n",
    "</div>\n"
   ]
  },
  {
   "attachments": {},
   "cell_type": "markdown",
   "id": "4d670cc2-3d71-4751-9f3f-db3aae7b57fd",
   "metadata": {},
   "source": [
    "3. I manually clean the resulting table of missions, checking the entries that the fact-checking function marked for review.\n",
    "\n",
    "One mission_acronym, UNSecretariat, doesn't have the corresponding geography. There are 9 fatalities associated with this code. Four of those come from a [1961 Ndola Transair Sweden DC-6 crash](https://en.wikipedia.org/wiki/1961_Ndola_Transair_Sweden_DC-6_crash) which killed Dag Hammarskjöld and his staff. I manually reclassify these four deaths to the ONUC. Two more come from 12 March 2017 when [Zaida Catalán and Michael Sharp were murdered in DRC](https://en.wikipedia.org/wiki/Zaida_Catal%C3%A1n). I reclassify these two deaths to the MONUSCO. I wasn't able to find details on three deaths, so I excluded them from the analysis.\n",
    "\n",
    "Resulting tables:\n",
    "[Fatalities](https://drive.google.com/file/d/10aIygNb5I5LXXCJgEDKZr064keo9QM2K/view?usp=sharing) \n",
    "[Missions](https://docs.google.com/spreadsheets/d/1SZgPl5hS7UHwdS8DKiUMrsT5GqMmQPCM/edit?usp=sharing&ouid=102406437055907246206&rtpof=true&sd=true)"
   ]
  },
  {
   "cell_type": "markdown",
   "id": "fa509609-20f7-4226-989c-fe7f3ec15253",
   "metadata": {},
   "source": [
    "4. I compare the unique values to the QGIS default world map countries to avoid errors. I then group the casualties by mission and by year."
   ]
  },
  {
   "cell_type": "code",
   "execution_count": null,
   "id": "5290a450-e174-4e84-9d29-31a728e1a868",
   "metadata": {},
   "outputs": [],
   "source": [
    "import pandas as pd\n",
    "\n",
    "from processing import check_country_names, replace_country_names, create_mission_year_fatalities\n",
    "\n",
    "#Load data\n",
    "url_missions = f'https://drive.google.com/uc?export=download&id=1SZgPl5hS7UHwdS8DKiUMrsT5GqMmQPCM'\n",
    "url_countries = f'https://drive.google.com/uc?export=download&id=1RJtogT44ejo8jEv4f3rt-zpAauXUXjjV'\n",
    "url_casualties = f'https://drive.google.com/uc?export=download&id=10aIygNb5I5LXXCJgEDKZr064keo9QM2K'\n",
    "\n",
    "missions_df = pd.read_excel(url_missions)\n",
    "countries_df = pd.read_excel(url_countries)\n",
    "casualties_df = pd.read_csv(url_casualties)\n",
    "\n",
    "# Check that the resulting country names match the spelling in the QGIS default map layer\n",
    "check_country_names(missions_df, countries_df)\n",
    "\n",
    "# Replace identified inconsistent names with names from QGIS\n",
    "replace_country_names(missions_df)\n",
    "\n",
    "# Group casualties by mission and year\n",
    "create_mission_year_fatalities(missions_df, casualties_df)"
   ]
  },
  {
   "cell_type": "markdown",
   "id": "bbbf4b89-9b5c-4496-ac29-64b977fcf0c0",
   "metadata": {},
   "source": [
    "5. I create a new layer in QGIS with the polygons for each mission using the present-day boundaries for the countries (this code is to be run in the QGIS python console).\n",
    "\n",
    "[Code for the QGIS python console](./create_polygons.txt)"
   ]
  },
  {
   "attachments": {},
   "cell_type": "markdown",
   "id": "294a3964-e16e-4202-af5e-ceda65c36f71",
   "metadata": {},
   "source": [
    "The resulting polygons look like this:\n",
    "![polygons.png](./images/polygons.png)\n",
    "\n",
    "We see that the majority of missions happen in Africa and Middle East, with some missions ocurring in Latin America and the Caribbean and Southeast Asia. This will inform our layout choice. \n",
    "\n",
    "6. I add the .csv file to my QGIS project as a delimited text layer.\n",
    "7. I create a new virtual layer that combines data from the csv and the polygon layers:\n",
    "\n",
    "[SQL code to run in the \"New Virtual Layer\" console](./create_virtual_layer.txt)\n",
    "\n",
    "Using a field calculator, I create a new field with a date, applying to_date function: to_date( \"date\" )\n",
    "\n",
    "I create a rule-based symbology: light blue fill for active missions with no casualties and different shades of orange and red for 1 casualty, 2-10, 11-20, 21-50, 50+ casualties."
   ]
  },
  {
   "attachments": {},
   "cell_type": "markdown",
   "id": "3252a60a-5b9e-4592-abe2-a4af53a304f9",
   "metadata": {},
   "source": [
    "8. I then activate the Dynamic Temporal Control for that layer (Single Field with Date/Time; event duration 1 day).\n",
    "In order to show the year in animation, I create the rule-based labeling and add one label with the year (year(date)) to one of the features (\"mission\" = 'UNOWAS').\n",
    "I then use data-defined placement to put this label in an appropriate place where it would be easy to notice and wouldn't obstruct the view. I also add the labels for the name of the mission, conditional upon \"active_operation\" = 1 and move them around the map to arrange properly.\n",
    "![colours_and_labels.png](./images/colours_and_labels.png)\n"
   ]
  },
  {
   "attachments": {},
   "cell_type": "markdown",
   "id": "49d03ab1-5af9-41ad-8318-53c4af4c62e9",
   "metadata": {},
   "source": [
    "9. I create a layout with the Layout Manager, where I use a map of Africa, the Middle East, and Europe as the main map and add parts of Latin America and the Caribbean, and Southeast Asia as insets.\n",
    "\n",
    "10. I use the Atlas feature to create time-based animation. I create a new .csv layer with years 1947 through 2025 and make this the atlas coverage layer. I then use the following code for dynamic temporal control of each of my 3 maps (main and insets):\n",
    "\n",
    "`to_datetime(attribute(@atlas_feature, 'year') || '-01-01')` for Start\n",
    "\n",
    "`to_datetime(attribute(@atlas_feature, 'year') || '-12-31')` for End\n",
    "\n",
    "11. I export the atlas, getting 79 pictures which I then combine into a gif:\n",
    "![Peacekeeping missions gif](./images/peacekeeping_missions_full_size.gif)"
   ]
  },
  {
   "cell_type": "markdown",
   "id": "4a2f8a19-f8b7-4c60-8523-4e17ab5cf176",
   "metadata": {},
   "source": [
    "# Nationalities\n",
    "\n",
    "Additionally, I analyse the fatalities by nationality. The analysis is demonstrated in a [dedicated notebook](./countries_of_origin.ipynb).\n",
    "\n",
    "[fatalities by year](./images/fatalities_by_year.gif)"
   ]
  },
  {
   "cell_type": "markdown",
   "id": "3811d5f0-976b-49bd-b0b4-c66eaa3771aa",
   "metadata": {},
   "source": [
    "# Insights\n",
    "\n",
    "Looking at this gif, we can get some valuable insights into the UN peacekeeping missions:\n",
    "* The end of the Cold War increased the number of missions.\n",
    "* Most missions happen in Africa.\n",
    "* Africa is also the place of most deaths of UN personnel.\n",
    "\n",
    "These insights are demonstrated via a 40-second gif, which is arguably less information-dense than text but more convincing."
   ]
  }
 ],
 "metadata": {
  "kernelspec": {
   "display_name": "Python [conda env:base] *",
   "language": "python",
   "name": "conda-base-py"
  },
  "language_info": {
   "codemirror_mode": {
    "name": "ipython",
    "version": 3
   },
   "file_extension": ".py",
   "mimetype": "text/x-python",
   "name": "python",
   "nbconvert_exporter": "python",
   "pygments_lexer": "ipython3",
   "version": "3.12.7"
  }
 },
 "nbformat": 4,
 "nbformat_minor": 5
}
